{
 "cells": [
  {
   "cell_type": "code",
   "execution_count": null,
   "id": "ae1d7b45",
   "metadata": {
    "vscode": {
     "languageId": "plaintext"
    }
   },
   "outputs": [],
   "source": [
    "# --- train_model.ipynb ---\n",
    "import pandas as pd, numpy as np, matplotlib.pyplot as plt, os\n",
    "from sklearn.preprocessing import StandardScaler\n",
    "import tensorflow as tf\n",
    "from tensorflow.keras.models import Sequential\n",
    "from tensorflow.keras.layers import LSTM, Dense, Dropout\n"
   ]
  },
  {
   "cell_type": "code",
   "execution_count": null,
   "id": "03478b85",
   "metadata": {
    "vscode": {
     "languageId": "plaintext"
    }
   },
   "outputs": [],
   "source": [
    "# Cell 1: EDA\n",
    "df = pd.read_csv('raw_data.csv')\n",
    "df['timestamp'] = pd.to_datetime(df['timestamp'])\n",
    "df.set_index('timestamp', inplace=True)\n",
    "df.plot(subplots=True, figsize=(15, 12))\n",
    "plt.show()"
   ]
  },
  {
   "cell_type": "code",
   "execution_count": null,
   "id": "f22c7d6a",
   "metadata": {
    "vscode": {
     "languageId": "plaintext"
    }
   },
   "outputs": [],
   "source": [
    "# Cell 2: Preprocessing\n",
    "df.fillna(method='ffill', inplace=True)\n",
    "df_smooth = df.rolling(window=5).mean().dropna()"
   ]
  },
  {
   "cell_type": "code",
   "execution_count": null,
   "id": "fc766931",
   "metadata": {
    "vscode": {
     "languageId": "plaintext"
    }
   },
   "outputs": [],
   "source": [
    "# Cell 3: Model Training\n",
    "def create_windows(data, window_size):\n",
    "    X, y = [], []\n",
    "    for i in range(len(data) - window_size):\n",
    "        X.append(data[i:(i + window_size)]); y.append(data[i + window_size])\n",
    "    return np.array(X), np.array(y)"
   ]
  },
  {
   "cell_type": "code",
   "execution_count": null,
   "id": "b665ab25",
   "metadata": {
    "vscode": {
     "languageId": "plaintext"
    }
   },
   "outputs": [],
   "source": [
    "healthy_cutoff = int(len(df_smooth) * 0.6)\n",
    "df_healthy = df_smooth.iloc[:healthy_cutoff]\n",
    "scaler = StandardScaler()\n",
    "scaled_data = scaler.fit_transform(df_healthy[['az']])\n",
    "WINDOW_SIZE = 50\n",
    "X_train, y_train = create_windows(scaled_data, WINDOW_SIZE)\n",
    "model = Sequential([ LSTM(64, input_shape=(X_train.shape[1], X_train.shape[2]), return_sequences=True), Dropout(0.2), LSTM(32), Dropout(0.2), Dense(1) ])\n",
    "model.compile(optimizer='adam', loss='mse')\n",
    "model.fit(X_train, y_train, epochs=20, batch_size=32, validation_split=0.1)\n",
    "os.makedirs('models', exist_ok=True)\n",
    "model.save('models/time_series_model.h5')\n",
    "train_pred = model.predict(X_train)\n",
    "train_mae_loss = np.mean(np.abs(train_pred - y_train), axis=1)\n",
    "anomaly_threshold = np.max(train_mae_loss) * 1.5\n",
    "np.save('models/anomaly_threshold.npy', anomaly_threshold)\n",
    "print(f\"Model and threshold saved. Anomaly Threshold: {anomaly_threshold}\")\n"
   ]
  }
 ],
 "metadata": {
  "language_info": {
   "name": "python"
  }
 },
 "nbformat": 4,
 "nbformat_minor": 5
}
